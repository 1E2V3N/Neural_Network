{
 "cells": [
  {
   "cell_type": "markdown",
   "id": "c9d3363d",
   "metadata": {},
   "source": [
    "## Take an input matrix with size 5x5 and a kernel with size 3x3, perform convolution with stride being 1 and 2.\n"
   ]
  },
  {
   "cell_type": "code",
   "execution_count": 2,
   "id": "e13ec62a",
   "metadata": {},
   "outputs": [],
   "source": [
    "#returns the size of the output matrix\n",
    "\n",
    "def output_size(input_size, kernel_size, padding, stride):\n",
    "    size = ((input_size + 2 * padding - kernel_size)/stride + 1)         \n",
    "    return int(size)\n"
   ]
  },
  {
   "cell_type": "code",
   "execution_count": 21,
   "id": "a6280a9f",
   "metadata": {},
   "outputs": [],
   "source": [
    "def convolution(input_mat, kernel, padding, stride):\n",
    "    size = output_size(input_mat.shape[0], kernel.shape[0], padding, stride)\n",
    "    #print(\"size = \", size)\n",
    "    output = []\n",
    "    for y in range(input_mat.shape[1]):\n",
    "        # loop exits at the end of matrix\n",
    "        if y > input_mat.shape[1] - kernel.shape[1]:\n",
    "            break\n",
    "            # runs for specified Strides\n",
    "        if y % stride == 0:\n",
    "                for x in range(input_mat.shape[0]):\n",
    "                    # avoiding out of bounds at end of matrix\n",
    "                    if x > input_mat.shape[0] - kernel.shape[0]:\n",
    "                        break\n",
    "        \n",
    "                    # Runs for particular value according to Strides\n",
    "                    if x % stride == 0:\n",
    "                        #print((kernel * input_mat[x: x + kernel.shape[0], y: y + kernel.shape[1]]).sum())\n",
    "                        val = (kernel * input_mat[x: x + kernel.shape[0], y: y + kernel.shape[1]]).sum()\n",
    "                        #print(val)\n",
    "                        output.append(val)\n",
    "                        #print(output)\n",
    "    \n",
    "    matrix = np.array(output)\n",
    "    output_mat = matrix.reshape(size, size)\n",
    "                \n",
    "    return output_mat"
   ]
  },
  {
   "cell_type": "code",
   "execution_count": 13,
   "id": "d7ee53ed",
   "metadata": {},
   "outputs": [
    {
     "name": "stdout",
     "output_type": "stream",
     "text": [
      "\n",
      "Input Matrix : \n",
      "\n",
      "[[5 1 1 2 2]\n",
      " [3 9 9 9 6]\n",
      " [1 8 4 4 9]\n",
      " [8 1 8 9 7]\n",
      " [8 9 0 9 6]]\n",
      "\n",
      "\n",
      "Kernel : \n",
      "\n",
      "[[2 3 2]\n",
      " [2 1 1]\n",
      " [1 0 0]]\n"
     ]
    }
   ],
   "source": [
    "import numpy as np\n",
    "\n",
    "input_mat = np.random.randint(10, size = (5, 5))\n",
    "kernel = np.random.randint(5, size = (3,3))\n",
    "print(\"\\nInput Matrix : \\n\")\n",
    "print(input_mat)\n",
    "print(\"\\n\\nKernel : \\n\")\n",
    "print(kernel)"
   ]
  },
  {
   "cell_type": "markdown",
   "id": "653efaba",
   "metadata": {},
   "source": [
    "<br>\n",
    "\n",
    "<br>\n",
    "\n",
    "Final output matrix with stride= 1"
   ]
  },
  {
   "cell_type": "code",
   "execution_count": 22,
   "id": "0f844fe5",
   "metadata": {},
   "outputs": [
    {
     "data": {
      "text/plain": [
       "array([[40, 73, 67],\n",
       "       [53, 88, 64],\n",
       "       [49, 86, 70]])"
      ]
     },
     "execution_count": 22,
     "metadata": {},
     "output_type": "execute_result"
    }
   ],
   "source": [
    "#output with stride = 1\n",
    "convolution(input_mat, kernel, 0 , 1)"
   ]
  },
  {
   "cell_type": "markdown",
   "id": "187fce11",
   "metadata": {},
   "source": [
    "<br>\n",
    "\n",
    "<br>\n",
    "Final output matrix with stride= 2"
   ]
  },
  {
   "cell_type": "code",
   "execution_count": 23,
   "id": "bcf280bb",
   "metadata": {},
   "outputs": [
    {
     "data": {
      "text/plain": [
       "array([[40, 67],\n",
       "       [49, 70]])"
      ]
     },
     "execution_count": 23,
     "metadata": {},
     "output_type": "execute_result"
    }
   ],
   "source": [
    "#output with stride = 2\n",
    "convolution(input_mat, kernel, 0 , 2)"
   ]
  }
 ],
 "metadata": {
  "kernelspec": {
   "display_name": "Python 3 (ipykernel)",
   "language": "python",
   "name": "python3"
  },
  "language_info": {
   "codemirror_mode": {
    "name": "ipython",
    "version": 3
   },
   "file_extension": ".py",
   "mimetype": "text/x-python",
   "name": "python",
   "nbconvert_exporter": "python",
   "pygments_lexer": "ipython3",
   "version": "3.9.12"
  }
 },
 "nbformat": 4,
 "nbformat_minor": 5
}
