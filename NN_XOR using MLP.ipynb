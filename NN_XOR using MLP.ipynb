{
 "cells": [
  {
   "cell_type": "markdown",
   "id": "9ae622aa",
   "metadata": {},
   "source": [
    "# XOR using MLP"
   ]
  },
  {
   "cell_type": "code",
   "execution_count": 1,
   "id": "004f9115",
   "metadata": {},
   "outputs": [],
   "source": [
    "import numpy as np\n",
    "import pandas as pd"
   ]
  },
  {
   "cell_type": "code",
   "execution_count": 2,
   "id": "6fa75211",
   "metadata": {},
   "outputs": [],
   "source": [
    "import warnings\n",
    "warnings.filterwarnings(\"ignore\")"
   ]
  },
  {
   "cell_type": "code",
   "execution_count": 3,
   "id": "983d49a5",
   "metadata": {},
   "outputs": [],
   "source": [
    "def sigmoid(x): # Returns values that sums to one.\n",
    "    return 1 / (1 + np.exp(-x))\n",
    "\n",
    "#derivative of sigmoid\n",
    "def der_sig(x):\n",
    "    return x*(1 - x)\n",
    "\n",
    "def accuracy(y_pred, y_true):\n",
    "    acc = y_pred.argmax(axis=1) == y_true.argmax(axis=1)\n",
    "    return acc.mean()\n",
    "\n",
    "def cost(y, t):\n",
    "    return ((t - y)**2).sum() / (2*y.size)"
   ]
  },
  {
   "cell_type": "code",
   "execution_count": 4,
   "id": "817fcd4b",
   "metadata": {},
   "outputs": [],
   "source": [
    "X = np.array([[1, 1],\n",
    "    [1, 0],\n",
    "    [0, 1],\n",
    "    [0, 0]])\n",
    "\n",
    "t = np.array([[0], \n",
    "              [1],\n",
    "              [1],\n",
    "              [0]])\n",
    "lr = 0.1\n",
    "\n",
    "hidden_size = 2\n",
    "output_size = 1\n",
    "\n",
    "results = pd.DataFrame(columns=[\"mse\", \"accuracy\"])"
   ]
  },
  {
   "cell_type": "code",
   "execution_count": 5,
   "id": "2fa46ec9",
   "metadata": {},
   "outputs": [],
   "source": [
    "num_data, input_size = X.shape"
   ]
  },
  {
   "cell_type": "code",
   "execution_count": 6,
   "id": "4f6dc8fc",
   "metadata": {},
   "outputs": [],
   "source": [
    "# initializing weight for the hidden layer\n",
    "W1 = np.random.random(size=(input_size, hidden_size))   \n",
    "\n",
    "# initializing weight for the output layer\n",
    "W2 = np.random.random(size=(hidden_size , output_size)) "
   ]
  },
  {
   "cell_type": "code",
   "execution_count": 7,
   "id": "5a90c7e6",
   "metadata": {},
   "outputs": [
    {
     "name": "stdout",
     "output_type": "stream",
     "text": [
      "W1 =  [[0.91828788 0.78970653]\n",
      " [0.83716222 0.368226  ]] \n",
      "\n",
      "\n",
      " W2 =  [[0.83267156]\n",
      " [0.07536085]]\n"
     ]
    }
   ],
   "source": [
    "print(\"W1 = \", W1, \"\\n\\n\\n W2 = \", W2)\n"
   ]
  },
  {
   "cell_type": "code",
   "execution_count": 8,
   "id": "a61db94c",
   "metadata": {},
   "outputs": [
    {
     "name": "stdout",
     "output_type": "stream",
     "text": [
      "Final output weights =  [[ 0.33893943]\n",
      " [-0.41837129]]\n",
      "\n",
      "Final input weights =  [[ 3.47375702  1.6117114 ]\n",
      " [ 3.40291066 -0.50987326]]\n"
     ]
    }
   ],
   "source": [
    "epoch = 10000\n",
    "for n in range(epoch):\n",
    "        \n",
    "        #print(\"\\nInput \", n+1)\n",
    "        \n",
    "        \n",
    "        #feed foward\n",
    "        #input to hidden\n",
    "        hidden_in = np.dot(X, W1) \n",
    "        hidden_out = sigmoid(hidden_in)\n",
    "        #print(\"\\nhidden out = \", hidden_out)\n",
    "        \n",
    "        #hidden to output\n",
    "        output_in = np.dot(hidden_out, W2) \n",
    "        output_out = sigmoid(output_in)\n",
    "        #print(\"\\noutput out = \", output_out)\n",
    "        \n",
    "        total_cost = cost(output_out, t)\n",
    "        BPN_error = t - output_out\n",
    "        #print(\"\\nBPN error = \", BPN_error)\n",
    "        \n",
    "        acc = accuracy(output_out, t)\n",
    "        results=results.append({\"mse\":total_cost, \"accuracy\":acc},ignore_index=True )\n",
    "        \n",
    "        #BACKPROPAGATION\n",
    "       \n",
    "     \n",
    "        \n",
    "        output_error = (-BPN_error) * der_sig(output_out)\n",
    "        output_delta = np.dot(output_out.T, output_error ) \n",
    "        #print(\"\\nOutput delta = \", output_delta)\n",
    "        \n",
    "        hidden_error = np.dot(output_error, W2.T)\n",
    "        #print(\"\\nHidden error = \", hidden_error)\n",
    "        \n",
    "        hidden_delta = np.dot(X.T, hidden_error * der_sig(hidden_out))\n",
    "        #print(\"\\nHidden delta = \", hidden_delta)\n",
    "    \n",
    "    \n",
    "        # update weights\n",
    "        #W2 +=   lr * hidden_out.T.dot(output_delta)\n",
    "        W2 -= lr * output_delta\n",
    "        #print(\"\\nW2 = \", W2)\n",
    "        #b2 += np.sum(output_delta,axis=0,keepdims=True) * lr\n",
    "        \n",
    "        #W1 +=  lr * np.dot(hidden_delta.T, X)\n",
    "        W1 -= lr * hidden_delta\n",
    "        #print(\"\\nW1 = \", W1)\n",
    "        #b1 += lr * hidden_delta\n",
    "        #print(\"---------------------------\")\n",
    "    \n",
    "print(\"Final output weights = \", W2)\n",
    "print(\"\\nFinal input weights = \", W1)\n",
    "        \n",
    "    "
   ]
  },
  {
   "cell_type": "code",
   "execution_count": 9,
   "id": "d6ce561f",
   "metadata": {},
   "outputs": [
    {
     "data": {
      "text/plain": [
       "<AxesSubplot:>"
      ]
     },
     "execution_count": 9,
     "metadata": {},
     "output_type": "execute_result"
    },
    {
     "data": {
      "image/png": "[encoded data removed]",
      "text/plain": [
       "<Figure size 432x288 with 1 Axes>"
      ]
     },
     "metadata": {
      "needs_background": "light"
     },
     "output_type": "display_data"
    }
   ],
   "source": [
    "results.mse.plot()"
   ]
  },
  {
   "cell_type": "code",
   "execution_count": null,
   "id": "71cf0943",
   "metadata": {},
   "outputs": [],
   "source": []
  },
  {
   "cell_type": "code",
   "execution_count": null,
   "id": "f6a8c57b",
   "metadata": {},
   "outputs": [],
   "source": []
  }
 ],
 "metadata": {
  "kernelspec": {
   "display_name": "Python 3 (ipykernel)",
   "language": "python",
   "name": "python3"
  },
  "language_info": {
   "codemirror_mode": {
    "name": "ipython",
    "version": 3
   },
   "file_extension": ".py",
   "mimetype": "text/x-python",
   "name": "python",
   "nbconvert_exporter": "python",
   "pygments_lexer": "ipython3",
   "version": "3.9.12"
  }
 },
 "nbformat": 4,
 "nbformat_minor": 5
}
