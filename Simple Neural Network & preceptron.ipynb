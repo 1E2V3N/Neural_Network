{
 "cells": [
  {
   "cell_type": "markdown",
   "id": "ff0eff37",
   "metadata": {},
   "source": [
    "<h2>Simple neural network with activation function </h2>"
   ]
  },
  {
   "cell_type": "code",
   "execution_count": 1,
   "id": "c81af3cf",
   "metadata": {},
   "outputs": [],
   "source": [
    "import numpy as np"
   ]
  },
  {
   "cell_type": "code",
   "execution_count": 2,
   "id": "c84f6622",
   "metadata": {},
   "outputs": [],
   "source": [
    "x = [0.8, 0.6, 0.4]\n",
    "w = [0.1, 0.3, -0.2]\n",
    "b =1\n",
    "bw =0.35\n",
    "theta =0"
   ]
  },
  {
   "cell_type": "code",
   "execution_count": 12,
   "id": "a5ea5e4d",
   "metadata": {},
   "outputs": [],
   "source": [
    "def binary_out(x):\n",
    "    return np.heaviside(x, 1)\n",
    "\n",
    "def bipolar_out(x):\n",
    "    if x < theta:\n",
    "        return -1.0\n",
    "    else:\n",
    "        return 1.0\n",
    "\n",
    "def binary_sig(x):\n",
    "    return 1/(1+ np.exp(-x))\n",
    "\n",
    "def bipolar_sig(x):\n",
    "    return (1- np.exp(-x))/(1+ np.exp(-x))"
   ]
  },
  {
   "cell_type": "code",
   "execution_count": 13,
   "id": "c9ecbefe",
   "metadata": {},
   "outputs": [
    {
     "name": "stdout",
     "output_type": "stream",
     "text": [
      "The value of x0 : 0.8\n",
      "The value of w0 : 0.1\n",
      "\n",
      "---------------------------------------\n",
      "The value of x1 : 0.6\n",
      "The value of w1 : 0.3\n",
      "\n",
      "---------------------------------------\n",
      "The value of x2 : 0.4\n",
      "The value of w2 : -0.2\n",
      "\n",
      "---------------------------------------\n",
      "The output for summation :  0.53\n",
      "\n",
      "The output of Y for binary :  1.0\n",
      "\n",
      "The output of Y for bipolar :  1.0\n",
      "\n",
      "The output of Y for binary sigmoidal :  0.6294831119673949\n",
      "\n",
      "The output of Y for bipolar sigmoidal :  0.2589662239347898\n"
     ]
    }
   ],
   "source": [
    "Y = 0\n",
    "for i in range(len(x)):\n",
    "    print(\"The value of x{0} : {1}\".format(i, x[i] ))\n",
    "    print(\"The value of w{0} : {1}\".format(i, w[i] ))\n",
    "    print(\"\\n---------------------------------------\")\n",
    "    Y = Y + x[i] * w[i]\n",
    "\n",
    "    \n",
    "Y = Y + (b * bw)\n",
    "print(\"The output for summation : \", Y)\n",
    "print(\"\\nThe output of Y for binary : \", binary_out(Y))\n",
    "print(\"\\nThe output of Y for bipolar : \", bipolar_out(Y))\n",
    "print(\"\\nThe output of Y for binary sigmoidal : \", binary_sig(Y)) \n",
    "print(\"\\nThe output of Y for bipolar sigmoidal : \", bipolar_sig(Y))"
   ]
  },
  {
   "cell_type": "markdown",
   "id": "29d1bbcd",
   "metadata": {},
   "source": [
    "<h2>Perceptron network for AND function</h2>"
   ]
  },
  {
   "cell_type": "code",
   "execution_count": 27,
   "id": "c862c5e7",
   "metadata": {},
   "outputs": [],
   "source": [
    "def  activation(y):\n",
    "     theta =0\n",
    "     if y > theta:\n",
    "            return 1\n",
    "     elif y == theta:\n",
    "            return 0\n",
    "     else:\n",
    "            return -1"
   ]
  },
  {
   "cell_type": "code",
   "execution_count": 33,
   "id": "0dff88ae",
   "metadata": {},
   "outputs": [],
   "source": [
    "def perceptron(X, t):\n",
    "    w = np.zeros(len(X[0]))\n",
    "    b =0\n",
    "    lr =1\n",
    "    epoch =10\n",
    "\n",
    "    for n in range(epoch):\n",
    "        arr = np.array([])\n",
    "\n",
    "        for i, x in enumerate(X):\n",
    "            sum= np.dot(X[i], w) + b #summation\n",
    "            y = activation(sum) #getting y after activation functin \n",
    "            arr = np.append(arr, np.array(y))\n",
    "\n",
    "        if y != t[i]: #comparing y and target value \n",
    "            w = w + (lr*t[i]*X[i]) #adjusting weights\n",
    "            b = b + (lr*t[i])\n",
    "    \n",
    "        if (arr == t).all(): #comparing targets to outputs \n",
    "             break\n",
    "    return w, b, n"
   ]
  },
  {
   "cell_type": "code",
   "execution_count": 34,
   "id": "a2761328",
   "metadata": {},
   "outputs": [
    {
     "name": "stdout",
     "output_type": "stream",
     "text": [
      "FINAL VALUES \n",
      "weights:  [1. 1.]  \n",
      "bias:  -1 \n",
      "epoch:  2\n"
     ]
    }
   ],
   "source": [
    "X = np.array(\n",
    "[[1,1],\n",
    "[1, -1],\n",
    "[-1, 1],\n",
    "[-1, -1]])\n",
    "\n",
    "t = np.array([1, -1, -1, -1])\n",
    "\n",
    "w, b, n = perceptron(X, t)\n",
    "\n",
    "print(\"FINAL VALUES \\nweights: \", w, \" \\nbias: \", b, \"\\nepoch: \", n +1)"
   ]
  },
  {
   "cell_type": "code",
   "execution_count": null,
   "id": "692ad48b",
   "metadata": {},
   "outputs": [],
   "source": []
  }
 ],
 "metadata": {
  "kernelspec": {
   "display_name": "Python 3 (ipykernel)",
   "language": "python",
   "name": "python3"
  },
  "language_info": {
   "codemirror_mode": {
    "name": "ipython",
    "version": 3
   },
   "file_extension": ".py",
   "mimetype": "text/x-python",
   "name": "python",
   "nbconvert_exporter": "python",
   "pygments_lexer": "ipython3",
   "version": "3.9.12"
  }
 },
 "nbformat": 4,
 "nbformat_minor": 5
}
