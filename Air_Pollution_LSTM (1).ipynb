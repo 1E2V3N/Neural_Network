{
 "cells": [
  {
   "cell_type": "code",
   "execution_count": 2,
   "id": "af921302",
   "metadata": {},
   "outputs": [],
   "source": [
    "import numpy as np\n",
    "import matplotlib.pyplot as plt\n",
    "import pandas as pd\n",
    "from sklearn.preprocessing import MinMaxScaler\n",
    "from keras.models import Sequential\n",
    "from keras.layers import Dense, LSTM, Dropout\n",
    "from keras.optimizers import SGD\n",
    "import math\n",
    "from sklearn.metrics import mean_squared_error"
   ]
  },
  {
   "cell_type": "code",
   "execution_count": 3,
   "id": "eeae49c1",
   "metadata": {},
   "outputs": [],
   "source": [
    "def plot_predictions(test,predicted):\n",
    "    plt.plot(test, color='red',label='Real Pollution')\n",
    "    plt.plot(predicted, color='blue',label='Predicted Pollution')\n",
    "    plt.title('Pollution Prediction')\n",
    "    plt.xlabel('Time')\n",
    "    plt.ylabel('Pollution')\n",
    "    plt.legend()\n",
    "    plt.show()"
   ]
  },
  {
   "cell_type": "code",
   "execution_count": 4,
   "id": "6d08f653",
   "metadata": {},
   "outputs": [
    {
     "data": {
      "text/html": [
       "<div>\n",
       "<style scoped>\n",
       "    .dataframe tbody tr th:only-of-type {\n",
       "        vertical-align: middle;\n",
       "    }\n",
       "\n",
       "    .dataframe tbody tr th {\n",
       "        vertical-align: top;\n",
       "    }\n",
       "\n",
       "    .dataframe thead th {\n",
       "        text-align: right;\n",
       "    }\n",
       "</style>\n",
       "<table border=\"1\" class=\"dataframe\">\n",
       "  <thead>\n",
       "    <tr style=\"text-align: right;\">\n",
       "      <th></th>\n",
       "      <th>pollution</th>\n",
       "      <th>dew</th>\n",
       "      <th>temp</th>\n",
       "      <th>press</th>\n",
       "      <th>wnd_dir</th>\n",
       "      <th>wnd_spd</th>\n",
       "      <th>snow</th>\n",
       "      <th>rain</th>\n",
       "    </tr>\n",
       "    <tr>\n",
       "      <th>date</th>\n",
       "      <th></th>\n",
       "      <th></th>\n",
       "      <th></th>\n",
       "      <th></th>\n",
       "      <th></th>\n",
       "      <th></th>\n",
       "      <th></th>\n",
       "      <th></th>\n",
       "    </tr>\n",
       "  </thead>\n",
       "  <tbody>\n",
       "    <tr>\n",
       "      <th>2010-01-02 00:00:00</th>\n",
       "      <td>129.0</td>\n",
       "      <td>-16</td>\n",
       "      <td>-4.0</td>\n",
       "      <td>1020.0</td>\n",
       "      <td>SE</td>\n",
       "      <td>1.79</td>\n",
       "      <td>0</td>\n",
       "      <td>0</td>\n",
       "    </tr>\n",
       "    <tr>\n",
       "      <th>2010-01-02 01:00:00</th>\n",
       "      <td>148.0</td>\n",
       "      <td>-15</td>\n",
       "      <td>-4.0</td>\n",
       "      <td>1020.0</td>\n",
       "      <td>SE</td>\n",
       "      <td>2.68</td>\n",
       "      <td>0</td>\n",
       "      <td>0</td>\n",
       "    </tr>\n",
       "    <tr>\n",
       "      <th>2010-01-02 02:00:00</th>\n",
       "      <td>159.0</td>\n",
       "      <td>-11</td>\n",
       "      <td>-5.0</td>\n",
       "      <td>1021.0</td>\n",
       "      <td>SE</td>\n",
       "      <td>3.57</td>\n",
       "      <td>0</td>\n",
       "      <td>0</td>\n",
       "    </tr>\n",
       "    <tr>\n",
       "      <th>2010-01-02 03:00:00</th>\n",
       "      <td>181.0</td>\n",
       "      <td>-7</td>\n",
       "      <td>-5.0</td>\n",
       "      <td>1022.0</td>\n",
       "      <td>SE</td>\n",
       "      <td>5.36</td>\n",
       "      <td>1</td>\n",
       "      <td>0</td>\n",
       "    </tr>\n",
       "    <tr>\n",
       "      <th>2010-01-02 04:00:00</th>\n",
       "      <td>138.0</td>\n",
       "      <td>-7</td>\n",
       "      <td>-5.0</td>\n",
       "      <td>1022.0</td>\n",
       "      <td>SE</td>\n",
       "      <td>6.25</td>\n",
       "      <td>2</td>\n",
       "      <td>0</td>\n",
       "    </tr>\n",
       "  </tbody>\n",
       "</table>\n",
       "</div>"
      ],
      "text/plain": [
       "                     pollution  dew  temp   press wnd_dir  wnd_spd  snow  rain\n",
       "date                                                                          \n",
       "2010-01-02 00:00:00      129.0  -16  -4.0  1020.0      SE     1.79     0     0\n",
       "2010-01-02 01:00:00      148.0  -15  -4.0  1020.0      SE     2.68     0     0\n",
       "2010-01-02 02:00:00      159.0  -11  -5.0  1021.0      SE     3.57     0     0\n",
       "2010-01-02 03:00:00      181.0   -7  -5.0  1022.0      SE     5.36     1     0\n",
       "2010-01-02 04:00:00      138.0   -7  -5.0  1022.0      SE     6.25     2     0"
      ]
     },
     "execution_count": 4,
     "metadata": {},
     "output_type": "execute_result"
    }
   ],
   "source": [
    "dataset = pd.read_csv('LSTM-Multivariate_pollution.csv', index_col='date', parse_dates=['date'])\n",
    "dataset.head()"
   ]
  },
  {
   "cell_type": "code",
   "execution_count": 5,
   "id": "de9aa54c",
   "metadata": {},
   "outputs": [],
   "source": [
    "training_set = dataset['2012-12-31':'2014-06-30'].iloc[:,0:1].values\n",
    "test_set = dataset['2014-12-01':].iloc[:,0:1].values"
   ]
  },
  {
   "cell_type": "code",
   "execution_count": 7,
   "id": "1f39d0a3",
   "metadata": {},
   "outputs": [
    {
     "data": {
      "text/plain": [
       "(744, 1)"
      ]
     },
     "execution_count": 7,
     "metadata": {},
     "output_type": "execute_result"
    }
   ],
   "source": [
    "test_set.shape"
   ]
  },
  {
   "cell_type": "code",
   "execution_count": 8,
   "id": "f3a008a8",
   "metadata": {},
   "outputs": [
    {
     "data": {
      "text/plain": [
       "(13128, 1)"
      ]
     },
     "execution_count": 8,
     "metadata": {},
     "output_type": "execute_result"
    }
   ],
   "source": [
    "training_set.shape"
   ]
  },
  {
   "cell_type": "code",
   "execution_count": 9,
   "id": "defd26d4",
   "metadata": {},
   "outputs": [],
   "source": [
    "sc = MinMaxScaler(feature_range=(0,1))\n",
    "training_set_scaled = sc.fit_transform(training_set)"
   ]
  },
  {
   "cell_type": "code",
   "execution_count": 10,
   "id": "8c1778a8",
   "metadata": {},
   "outputs": [
    {
     "data": {
      "text/plain": [
       "(13128, 1)"
      ]
     },
     "execution_count": 10,
     "metadata": {},
     "output_type": "execute_result"
    }
   ],
   "source": [
    "training_set_scaled.shape"
   ]
  },
  {
   "cell_type": "code",
   "execution_count": 12,
   "id": "4b80044c",
   "metadata": {},
   "outputs": [],
   "source": [
    "X_train = []\n",
    "y_train = []\n",
    "for i in range(60,training_set_scaled.shape[0]):\n",
    "    X_train.append(training_set_scaled[i-60:i,0])\n",
    "    y_train.append(training_set_scaled[i,0])\n",
    "X_train, y_train = np.array(X_train), np.array(y_train)"
   ]
  },
  {
   "cell_type": "code",
   "execution_count": 13,
   "id": "46cdffbf",
   "metadata": {},
   "outputs": [],
   "source": [
    "X_train = np.reshape(X_train, (X_train.shape[0],X_train.shape[1],1))"
   ]
  },
  {
   "cell_type": "code",
   "execution_count": 14,
   "id": "1a8adcd3",
   "metadata": {},
   "outputs": [
    {
     "data": {
      "text/plain": [
       "(13068, 60, 1)"
      ]
     },
     "execution_count": 14,
     "metadata": {},
     "output_type": "execute_result"
    }
   ],
   "source": [
    "X_train.shape"
   ]
  },
  {
   "cell_type": "code",
   "execution_count": 15,
   "id": "2c5f84c1",
   "metadata": {},
   "outputs": [
    {
     "name": "stdout",
     "output_type": "stream",
     "text": [
      "Epoch 1/20\n",
      "409/409 [==============================] - 24s 47ms/step - loss: 0.0052\n",
      "Epoch 2/20\n",
      "409/409 [==============================] - 19s 46ms/step - loss: 0.0031\n",
      "Epoch 3/20\n",
      "409/409 [==============================] - 19s 47ms/step - loss: 0.0024\n",
      "Epoch 4/20\n",
      "409/409 [==============================] - 20s 48ms/step - loss: 0.0021\n",
      "Epoch 5/20\n",
      "409/409 [==============================] - 19s 46ms/step - loss: 0.0019\n",
      "Epoch 6/20\n",
      "409/409 [==============================] - 19s 48ms/step - loss: 0.0017\n",
      "Epoch 7/20\n",
      "409/409 [==============================] - 20s 49ms/step - loss: 0.0016\n",
      "Epoch 8/20\n",
      "409/409 [==============================] - 19s 46ms/step - loss: 0.0016\n",
      "Epoch 9/20\n",
      "409/409 [==============================] - 19s 46ms/step - loss: 0.0015\n",
      "Epoch 10/20\n",
      "409/409 [==============================] - 19s 48ms/step - loss: 0.0014\n",
      "Epoch 11/20\n",
      "409/409 [==============================] - 19s 47ms/step - loss: 0.0014\n",
      "Epoch 12/20\n",
      "409/409 [==============================] - 19s 46ms/step - loss: 0.0013\n",
      "Epoch 13/20\n",
      "409/409 [==============================] - 19s 46ms/step - loss: 0.0014\n",
      "Epoch 14/20\n",
      "409/409 [==============================] - 20s 49ms/step - loss: 0.0013\n",
      "Epoch 15/20\n",
      "409/409 [==============================] - 19s 46ms/step - loss: 0.0013\n",
      "Epoch 16/20\n",
      "409/409 [==============================] - 19s 46ms/step - loss: 0.0013\n",
      "Epoch 17/20\n",
      "409/409 [==============================] - 21s 50ms/step - loss: 0.0013\n",
      "Epoch 18/20\n",
      "409/409 [==============================] - 19s 48ms/step - loss: 0.0013\n",
      "Epoch 19/20\n",
      "409/409 [==============================] - 19s 46ms/step - loss: 0.0013\n",
      "Epoch 20/20\n",
      "409/409 [==============================] - 19s 46ms/step - loss: 0.0013\n"
     ]
    },
    {
     "data": {
      "text/plain": [
       "<keras.src.callbacks.History at 0x1b1b1e21ca0>"
      ]
     },
     "execution_count": 15,
     "metadata": {},
     "output_type": "execute_result"
    }
   ],
   "source": [
    "regressor = Sequential()\n",
    "regressor.add(LSTM(units=50, return_sequences=True, input_shape=(X_train.shape[1],1)))\n",
    "regressor.add(Dropout(0.2))\n",
    "regressor.add(LSTM(units=50, return_sequences=True))\n",
    "regressor.add(Dropout(0.2))\n",
    "\n",
    "regressor.add(LSTM(units=50))\n",
    "regressor.add(Dropout(0.2))\n",
    "\n",
    "regressor.add(Dense(units=1))\n",
    "\n",
    "\n",
    "regressor.compile(optimizer='rmsprop',loss='mean_squared_error')\n",
    "regressor.fit(X_train,y_train,epochs=20,batch_size=32)"
   ]
  },
  {
   "cell_type": "code",
   "execution_count": 17,
   "id": "d425fb25",
   "metadata": {},
   "outputs": [],
   "source": [
    "dataset_total = pd.concat((dataset[\"pollution\"]['2014-01-01':'2014-09-30'],dataset[\"pollution\"]['2014-09-30':]),axis=0)\n",
    "inputs = dataset_total[len(dataset_total)-len(test_set) - 60:].values\n",
    "inputs = inputs.reshape(-1,1)\n",
    "inputs  = sc.transform(inputs)"
   ]
  },
  {
   "cell_type": "code",
   "execution_count": 23,
   "id": "986dc6a5",
   "metadata": {},
   "outputs": [
    {
     "name": "stdout",
     "output_type": "stream",
     "text": [
      "24/24 [==============================] - 0s 14ms/step\n"
     ]
    }
   ],
   "source": [
    "X_test = []\n",
    "for i in range(60,test_set.shape[0]+60):\n",
    "    X_test.append(inputs[i-60:i,0])\n",
    "X_test = np.array(X_test)\n",
    "X_test = np.reshape(X_test, (X_test.shape[0],X_test.shape[1],1))\n",
    "predicted_pollution = regressor.predict(X_test)\n",
    "predicted_pollution = sc.inverse_transform(predicted_stock_price)"
   ]
  },
  {
   "cell_type": "code",
   "execution_count": 24,
   "id": "d503360d",
   "metadata": {},
   "outputs": [
    {
     "data": {
      "image/png": "[encoded data removed]",
      "text/plain": [
       "<Figure size 432x288 with 1 Axes>"
      ]
     },
     "metadata": {},
     "output_type": "display_data"
    }
   ],
   "source": [
    "plot_predictions(test_set,predicted_stock_price)"
   ]
  },
  {
   "cell_type": "markdown",
   "id": "23277350",
   "metadata": {},
   "source": [
    "From the above fig. , we can understand predicted pollution is approx. close to real pollution value."
   ]
  }
 ],
 "metadata": {
  "kernelspec": {
   "display_name": "Python 3 (ipykernel)",
   "language": "python",
   "name": "python3"
  },
  "language_info": {
   "codemirror_mode": {
    "name": "ipython",
    "version": 3
   },
   "file_extension": ".py",
   "mimetype": "text/x-python",
   "name": "python",
   "nbconvert_exporter": "python",
   "pygments_lexer": "ipython3",
   "version": "3.9.12"
  }
 },
 "nbformat": 4,
 "nbformat_minor": 5
}
