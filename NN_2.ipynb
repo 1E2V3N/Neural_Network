{
 "cells": [
  {
   "cell_type": "markdown",
   "metadata": {
    "id": "7PRh59Jx9Ztt"
   },
   "source": [
    "# Program 1: Classification of OR problem using ADALINE network"
   ]
  },
  {
   "cell_type": "code",
   "execution_count": null,
   "metadata": {
    "id": "NUNVItmf9NKk"
   },
   "outputs": [],
   "source": [
    "# import the module numpy\n",
    "import numpy as np\n",
    "\n",
    "inputs = np.array(\n",
    "    [\n",
    "        [1, 1],\n",
    "        [1, -1],\n",
    "        [-1, 1],\n",
    "        [-1, -1]\n",
    "    ])\n",
    " \n",
    "output = np.array([1, 1, 1, -1])\n",
    "\n",
    "# initialise weights, bias , learning rate, epoch\n",
    "weight = [0.1, 0.1]\n",
    "bias = 0.1\n",
    "learning_rate = 0.1\n",
    "epoch = 2"
   ]
  },
  {
   "cell_type": "code",
   "execution_count": null,
   "metadata": {
    "colab": {
     "base_uri": "https://localhost:8080/"
    },
    "id": "V4Wc5JJJ9lk1",
    "outputId": "b2352727-145d-4017-edfb-edb5c71286ae"
   },
   "outputs": [
    {
     "name": "stdout",
     "output_type": "stream",
     "text": [
      "Epoch : 1\n",
      "inputs:  1 1\n",
      "Target:  1\n",
      "y =  0.30000000000000004\n",
      "error = 0.7\n",
      "W1:  0.1\n",
      "W2:  0.1\n",
      "Bias:  0.1\n",
      "inputs:  1 -1\n",
      "Target:  1\n",
      "y =  0.16999999999999998\n",
      "error = 0.8300000000000001\n",
      "W1:  0.16999999999999998\n",
      "W2:  0.16999999999999998\n",
      "Bias:  0.16999999999999998\n",
      "inputs:  -1 1\n",
      "Target:  1\n",
      "y =  0.08699999999999997\n",
      "error = 0.913\n",
      "W1:  0.253\n",
      "W2:  0.08699999999999997\n",
      "Bias:  0.253\n",
      "inputs:  -1 -1\n",
      "Target:  -1\n",
      "y =  0.004300000000000026\n",
      "error = -1.0043\n",
      "W1:  0.1617\n",
      "W2:  0.17829999999999996\n",
      "Bias:  0.3443\n",
      "Mean Squared error =  0.7552718725 \n",
      "\n",
      "\n",
      "Epoch : 2\n",
      "inputs:  1 1\n",
      "Target:  1\n",
      "y =  0.7847299999999999\n",
      "error = 0.21527000000000007\n",
      "W1:  0.26213000000000003\n",
      "W2:  0.27873\n",
      "Bias:  0.24386999999999998\n",
      "inputs:  1 -1\n",
      "Target:  1\n",
      "y =  0.24879700000000005\n",
      "error = 0.751203\n",
      "W1:  0.28365700000000005\n",
      "W2:  0.300257\n",
      "Bias:  0.265397\n",
      "inputs:  -1 1\n",
      "Target:  1\n",
      "y =  0.20687669999999994\n",
      "error = 0.7931233000000001\n",
      "W1:  0.3587773000000001\n",
      "W2:  0.2251367\n",
      "Bias:  0.3405173\n",
      "inputs:  -1 -1\n",
      "Target:  -1\n",
      "y =  -0.16408436999999998\n",
      "error = -0.83591563\n",
      "W1:  0.27946497000000003\n",
      "W2:  0.30444903\n",
      "Bias:  0.41982963000000006\n",
      "Mean Squared error =  0.4846116573975468 \n",
      "\n",
      "\n"
     ]
    }
   ],
   "source": [
    "LSME = []\n",
    "for i in range(epoch):\n",
    "    print(\"Epoch :\", i+1)\n",
    "    sqerr = 0.0\n",
    "    for j in range(inputs.shape[0]):\n",
    "        target = output[j]\n",
    "        x1 = inputs[j][0]\n",
    "        x2 = inputs[j][1]\n",
    "        print(\"inputs: \", x1, x2)\n",
    "        print(\"Target: \", target)\n",
    "        y = (x1 * weight[0]) + (x2 * weight[1]) + bias\n",
    "        print(\"y = \",y)\n",
    "        error = target - y\n",
    "        print(\"error =\", error)\n",
    "        print(\"W1: \", weight[0])\n",
    "        print(\"W2: \", weight[1])\n",
    "        print(\"Bias: \", bias)\n",
    "        sqerr += error * error\n",
    "        # updation of weights and bias\n",
    "        weight[0] += learning_rate * error * x1\n",
    "        weight[1] += learning_rate * error * x2\n",
    "        bias += learning_rate * error\n",
    "  \n",
    "    MSE = sqerr/4\n",
    "    LSME.append(MSE)\n",
    "    print(\"Mean Squared error = \", MSE, \"\\n\\n\")"
   ]
  },
  {
   "cell_type": "markdown",
   "metadata": {
    "id": "i_G2mCyr9vCZ"
   },
   "source": [
    "# Least mean square error"
   ]
  },
  {
   "cell_type": "code",
   "execution_count": null,
   "metadata": {
    "colab": {
     "base_uri": "https://localhost:8080/"
    },
    "id": "PqF_rIqs9oUW",
    "outputId": "5daa2c5f-d431-48ea-eb56-49eace91507c"
   },
   "outputs": [
    {
     "name": "stdout",
     "output_type": "stream",
     "text": [
      "[0.7552718725, 0.4846116573975468]\n",
      "Least Mean Square Error:  0.4846116573975468\n"
     ]
    }
   ],
   "source": [
    "print(LSME)\n",
    "print(\"Least Mean Square Error: \", min(LSME))"
   ]
  },
  {
   "cell_type": "markdown",
   "metadata": {
    "id": "i-MXdyp8-Bux"
   },
   "source": [
    "# Program 2: Classification of XOR problem using MADALINE network\n"
   ]
  },
  {
   "cell_type": "code",
   "execution_count": 1,
   "metadata": {
    "id": "h1gKOjIU9ywu"
   },
   "outputs": [],
   "source": [
    "import numpy as np\n",
    "weight = [0.1, 0.1, 0.1, 0.1]\n",
    "\n",
    "alpha = 0.5\n",
    "learning_rate = 0.2\n",
    "epoch = 2"
   ]
  },
  {
   "cell_type": "code",
   "execution_count": null,
   "metadata": {
    "id": "kkXpqs6a-FJD"
   },
   "outputs": [],
   "source": [
    "inputs = np.array(\n",
    "    [\n",
    "        [1, 1],\n",
    "        [1, -1],\n",
    "        [-1, 1],\n",
    "        [-1, -1]\n",
    "    ])\n",
    " \n",
    "output = np.array([-1, 1, 1, -1])"
   ]
  },
  {
   "cell_type": "code",
   "execution_count": null,
   "metadata": {
    "colab": {
     "base_uri": "https://localhost:8080/"
    },
    "id": "KXgBotsR-Hl3",
    "outputId": "49bedd31-2a2b-44d3-b5a9-60ff40fa1811"
   },
   "outputs": [
    {
     "name": "stdout",
     "output_type": "stream",
     "text": [
      "Epoch : 1\n",
      "inputs:  1 1\n",
      "Target:  -1\n",
      "B1 :  0.1  B2 :  0.1\n",
      "Z1 :  0.8789024999999999  Z2:  0.8789024999999999\n",
      "\n",
      "Applying Bipolar Function\n",
      "Z1 :  1 Z2 :  1\n",
      "Y :  0.7\n",
      "Error 1:  -1.8789025\n",
      "Error 2:  -1.8789025\n",
      "Weights :  [0.05638824999999997, 0.05638824999999997, -0.02904675000000001, -0.02904675000000001]\n",
      "Bias : b1 =  -0.83945125  b2 =   -0.83945125\n",
      "\n",
      "\n",
      "________***********__________\n",
      "\n",
      "\n",
      "inputs:  1 -1\n",
      "Target:  1\n",
      "B1 :  -0.83945125  B2 :  -0.83945125\n",
      "Z1 :  -0.75401625  Z2:  -0.75401625\n",
      "\n",
      "Applying Bipolar Function\n",
      "Z1 :  -1 Z2 :  -1\n",
      "Y :  -0.5\n",
      "Error 1:  1.75401625\n",
      "Error 2:  1.75401625\n",
      "Weights :  [0.4071915, 0.4071915, -0.37985, -0.37985]\n",
      "Bias : b1 =  0.037556875000000045  b2 =   0.037556875000000045\n",
      "\n",
      "\n",
      "________***********__________\n",
      "\n",
      "\n",
      "inputs:  -1 1\n",
      "Target:  1\n",
      "B1 :  0.037556875000000045  B2 :  0.037556875000000045\n",
      "Z1 :  -0.749484625  Z2:  -0.749484625\n",
      "\n",
      "Applying Bipolar Function\n",
      "Z1 :  -1 Z2 :  -1\n",
      "Y :  -0.5\n",
      "Error 1:  1.749484625\n",
      "Error 2:  1.749484625\n",
      "Weights :  [0.05729457499999996, 0.05729457499999996, -0.029953074999999996, -0.029953074999999996]\n",
      "Bias : b1 =  0.9122991875  b2 =   0.9122991875\n",
      "\n",
      "\n",
      "________***********__________\n",
      "\n",
      "\n",
      "inputs:  -1 -1\n",
      "Target:  -1\n",
      "B1 :  0.9122991875  B2 :  0.9122991875\n",
      "Z1 :  0.8849576875000001  Z2:  0.8849576875000001\n",
      "\n",
      "Applying Bipolar Function\n",
      "Z1 :  1 Z2 :  1\n",
      "Y :  0.7\n",
      "Error 1:  -1.8849576875\n",
      "Error 2:  -1.8849576875\n",
      "Weights :  [0.4342861125, 0.4342861125, 0.34703846250000003, 0.34703846250000003]\n",
      "Bias : b1 =  -0.030179656249999964  b2 =   -0.030179656249999964\n",
      "\n",
      "\n",
      "________***********__________\n",
      "\n",
      "\n",
      "Epoch : 2\n",
      "inputs:  1 1\n",
      "Target:  -1\n",
      "B1 :  -0.030179656249999964  B2 :  -0.030179656249999964\n",
      "Z1 :  0.7511449187500001  Z2:  0.7511449187500001\n",
      "\n",
      "Applying Bipolar Function\n",
      "Z1 :  1 Z2 :  1\n",
      "Y :  0.7\n",
      "Error 1:  -1.7511449187500001\n",
      "Error 2:  -1.7511449187500001\n",
      "Weights :  [0.08405712874999993, 0.08405712874999993, -0.0031905212500000224, -0.0031905212500000224]\n",
      "Bias : b1 =  -0.905752115625  b2 =   -0.905752115625\n",
      "\n",
      "\n",
      "________***********__________\n",
      "\n",
      "\n",
      "inputs:  1 -1\n",
      "Target:  1\n",
      "B1 :  -0.905752115625  B2 :  -0.905752115625\n",
      "Z1 :  -0.818504465625  Z2:  -0.818504465625\n",
      "\n",
      "Applying Bipolar Function\n",
      "Z1 :  -1 Z2 :  -1\n",
      "Y :  -0.5\n",
      "Error 1:  1.818504465625\n",
      "Error 2:  1.818504465625\n",
      "Weights :  [0.44775802187499997, 0.44775802187499997, -0.36689141437500006, -0.36689141437500006]\n",
      "Bias : b1 =  0.003500117187499985  b2 =   0.003500117187499985\n",
      "\n",
      "\n",
      "________***********__________\n",
      "\n",
      "\n",
      "inputs:  -1 1\n",
      "Target:  1\n",
      "B1 :  0.003500117187499985  B2 :  0.003500117187499985\n",
      "Z1 :  -0.8111493190625001  Z2:  -0.8111493190625001\n",
      "\n",
      "Applying Bipolar Function\n",
      "Z1 :  -1 Z2 :  -1\n",
      "Y :  -0.5\n",
      "Error 1:  1.8111493190625\n",
      "Error 2:  1.8111493190625\n",
      "Weights :  [0.08552815806249991, 0.08552815806249991, -0.004661550562500005, -0.004661550562500005]\n",
      "Bias : b1 =  0.90907477671875  b2 =   0.90907477671875\n",
      "\n",
      "\n",
      "________***********__________\n",
      "\n",
      "\n",
      "inputs:  -1 -1\n",
      "Target:  -1\n",
      "B1 :  0.90907477671875  B2 :  0.90907477671875\n",
      "Z1 :  0.8282081692187502  Z2:  0.8282081692187502\n",
      "\n",
      "Applying Bipolar Function\n",
      "Z1 :  1 Z2 :  1\n",
      "Y :  0.7\n",
      "Error 1:  -1.8282081692187502\n",
      "Error 2:  -1.8282081692187502\n",
      "Weights :  [0.45116979190624995, 0.45116979190624995, 0.36098008328125003, 0.36098008328125003]\n",
      "Bias : b1 =  -0.0050293078906250566  b2 =   -0.0050293078906250566\n",
      "\n",
      "\n",
      "________***********__________\n",
      "\n",
      "\n"
     ]
    }
   ],
   "source": [
    "v1 = 0.3\n",
    "v2 = 0.3\n",
    "b1 = 0.1\n",
    "b2 = 0.1\n",
    "b3 = 0.1\n",
    "\n",
    "for i in range(epoch):\n",
    "  print(\"Epoch :\", i+1)\n",
    "  for j in range(inputs.shape[0]):\n",
    "    target = output[j]\n",
    "    x1 = inputs[j][0]\n",
    "    x2 = inputs[j][1]\n",
    "    print(\"inputs: \", x1, x2)\n",
    "    print(\"Target: \", target)\n",
    "    print(\"B1 : \", b1,\" B2 : \", b2)\n",
    "    z1 = b1 + x1*weight[0] + x2*weight[2]\n",
    "    z2 = b2 + x1*weight[1] + x2*weight[3]\n",
    "      \n",
    "    #comparing the z values with activations function.\n",
    "    print(\"Z1 : \", z1, \" Z2: \", z2) \n",
    "\n",
    "    if(z1 >= 0):\n",
    "      u_z1 = 1\n",
    "    if(z2 >= 0):\n",
    "      u_z2 = 1\n",
    "    if(z1 < 0):\n",
    "      u_z1 = -1\n",
    "    if(z2 < 0):\n",
    "      u_z2 = -1\n",
    "    \n",
    "    print(\"\\nApplying Bipolar Function to z values \")\n",
    "    print(\"Z1 : \", u_z1,\"Z2 : \", u_z2)\n",
    "\n",
    "    y = b3 + u_z1*v1 + u_z2*v2\n",
    "    print(\"\\n Printing value\")\n",
    "    print(\"Y : \", y)\n",
    "\n",
    "\n",
    "    if(y != target):\n",
    "      # update weights\n",
    "      err1 = target - z1\n",
    "      err2 = target - z2\n",
    "\n",
    "      print(\"Error 1: \", err1)\n",
    "      print(\"Error 2: \", err2)\n",
    "\n",
    "      weight[0] = weight[0] + learning_rate * err1 * x1\n",
    "      weight[1] = weight[1] + learning_rate * err2 * x1\n",
    "      weight[2] = weight[2] + learning_rate * err1 * x2\n",
    "      weight[3] = weight[3] + learning_rate * err2 * x2\n",
    "\n",
    "\n",
    "      print(\"Weights : \",weight)\n",
    "\n",
    "      # bias\n",
    "      b1 = b1 + alpha * err1\n",
    "      b2 = b2 + alpha * err2\n",
    "\n",
    "      print(\"Bias : b1 = \",b1,\" b2 =  \",b2 )\n",
    "      print(\"\\n\")\n",
    "      print(\"________***********__________\")\n",
    "      print(\"\\n\")"
   ]
  },
  {
   "cell_type": "code",
   "execution_count": null,
   "metadata": {
    "id": "ruSTikGq-Lie"
   },
   "outputs": [],
   "source": []
  }
 ],
 "metadata": {
  "colab": {
   "provenance": []
  },
  "kernelspec": {
   "display_name": "Python 3 (ipykernel)",
   "language": "python",
   "name": "python3"
  },
  "language_info": {
   "codemirror_mode": {
    "name": "ipython",
    "version": 3
   },
   "file_extension": ".py",
   "mimetype": "text/x-python",
   "name": "python",
   "nbconvert_exporter": "python",
   "pygments_lexer": "ipython3",
   "version": "3.9.12"
  }
 },
 "nbformat": 4,
 "nbformat_minor": 1
}
